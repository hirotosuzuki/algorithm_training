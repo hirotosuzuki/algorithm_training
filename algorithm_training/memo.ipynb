{
 "cells": [
  {
   "cell_type": "code",
   "execution_count": 16,
   "metadata": {},
   "outputs": [
    {
     "ename": "IndexError",
     "evalue": "list index out of range",
     "output_type": "error",
     "traceback": [
      "\u001b[0;31m---------------------------------------------------------------------------\u001b[0m",
      "\u001b[0;31mIndexError\u001b[0m                                Traceback (most recent call last)",
      "\u001b[1;32m/Users/hiroto.suzuki/Workspace/Experiment/algorithm_training/algorithm_training/memo.ipynb Cell 1'\u001b[0m in \u001b[0;36m<cell line: 18>\u001b[0;34m()\u001b[0m\n\u001b[1;32m     <a href='vscode-notebook-cell:/Users/hiroto.suzuki/Workspace/Experiment/algorithm_training/algorithm_training/memo.ipynb#ch0000000?line=18'>19</a>\u001b[0m \u001b[39mfor\u001b[39;00m U, V \u001b[39min\u001b[39;00m edge:\n\u001b[1;32m     <a href='vscode-notebook-cell:/Users/hiroto.suzuki/Workspace/Experiment/algorithm_training/algorithm_training/memo.ipynb#ch0000000?line=19'>20</a>\u001b[0m     \u001b[39mfor\u001b[39;00m x \u001b[39min\u001b[39;00m \u001b[39mrange\u001b[39m(\u001b[39m2\u001b[39m):\n\u001b[0;32m---> <a href='vscode-notebook-cell:/Users/hiroto.suzuki/Workspace/Experiment/algorithm_training/algorithm_training/memo.ipynb#ch0000000?line=20'>21</a>\u001b[0m         dp[x][i \u001b[39m+\u001b[39m \u001b[39m1\u001b[39m][V] \u001b[39m+\u001b[39m\u001b[39m=\u001b[39m dp[x][i][U]\n\u001b[1;32m     <a href='vscode-notebook-cell:/Users/hiroto.suzuki/Workspace/Experiment/algorithm_training/algorithm_training/memo.ipynb#ch0000000?line=21'>22</a>\u001b[0m         dp[x][i \u001b[39m+\u001b[39m \u001b[39m1\u001b[39m][V] \u001b[39m+\u001b[39m\u001b[39m=\u001b[39m dp[x][i][V]\n",
      "\u001b[0;31mIndexError\u001b[0m: list index out of range"
     ]
    }
   ],
   "source": [
    "N = 4\n",
    "M = 4\n",
    "K = 4\n",
    "S = 1\n",
    "T = 3\n",
    "X = 2\n",
    "\n",
    "edge = [(1, 2), (2, 3), (3, 4), (1, 4)]\n",
    "\n",
    "dp = [\n",
    "    [\n",
    "        [0] * N for i in range(K + 1)\n",
    "    ] for x in range(2)\n",
    "]\n",
    "\n",
    "dp[0][0][S] = 1\n",
    "\n",
    "for i in range(K):\n",
    "    for U, V in edge:\n",
    "        for x in range(2):\n",
    "            dp[x][i + 1][V] += dp[x][i][U]\n",
    "            dp[x][i + 1][V] += dp[x][i][V]"
   ]
  },
  {
   "cell_type": "code",
   "execution_count": 13,
   "metadata": {},
   "outputs": [
    {
     "data": {
      "text/plain": [
       "[[[0, 1, 0],\n",
       "  [0, 1, 1],\n",
       "  [1, 1, 2],\n",
       "  [3, 2, 3],\n",
       "  [6, 5, 5],\n",
       "  [11, 11, 10],\n",
       "  [21, 22, 21],\n",
       "  [42, 43, 43],\n",
       "  [85, 85, 86],\n",
       "  [171, 170, 171],\n",
       "  [342, 341, 341]],\n",
       " [[0, 0, 0],\n",
       "  [0, 0, 0],\n",
       "  [0, 0, 0],\n",
       "  [0, 0, 0],\n",
       "  [0, 0, 0],\n",
       "  [0, 0, 0],\n",
       "  [0, 0, 0],\n",
       "  [0, 0, 0],\n",
       "  [0, 0, 0],\n",
       "  [0, 0, 0],\n",
       "  [0, 0, 0]]]"
      ]
     },
     "execution_count": 13,
     "metadata": {},
     "output_type": "execute_result"
    }
   ],
   "source": [
    "dp"
   ]
  },
  {
   "cell_type": "code",
   "execution_count": 15,
   "metadata": {},
   "outputs": [
    {
     "data": {
      "text/plain": [
       "[[[0, 1, 0],\n",
       "  [0, 1, 1],\n",
       "  [1, 1, 2],\n",
       "  [3, 2, 3],\n",
       "  [6, 5, 5],\n",
       "  [11, 11, 10],\n",
       "  [21, 22, 21],\n",
       "  [42, 43, 43],\n",
       "  [85, 85, 86],\n",
       "  [171, 170, 171],\n",
       "  [342, 341, 341]],\n",
       " [[0, 0, 0],\n",
       "  [0, 0, 0],\n",
       "  [0, 0, 0],\n",
       "  [0, 0, 0],\n",
       "  [0, 0, 0],\n",
       "  [0, 0, 0],\n",
       "  [0, 0, 0],\n",
       "  [0, 0, 0],\n",
       "  [0, 0, 0],\n",
       "  [0, 0, 0],\n",
       "  [0, 0, 0]]]"
      ]
     },
     "execution_count": 15,
     "metadata": {},
     "output_type": "execute_result"
    }
   ],
   "source": [
    "dp"
   ]
  },
  {
   "cell_type": "code",
   "execution_count": 11,
   "metadata": {},
   "outputs": [
    {
     "data": {
      "text/plain": [
       "341"
      ]
     },
     "execution_count": 11,
     "metadata": {},
     "output_type": "execute_result"
    }
   ],
   "source": [
    "dp[0][K][T]"
   ]
  },
  {
   "cell_type": "code",
   "execution_count": 12,
   "metadata": {},
   "outputs": [
    {
     "data": {
      "text/plain": [
       "[[0, 0, 0],\n",
       " [0, 0, 0],\n",
       " [0, 0, 0],\n",
       " [0, 0, 0],\n",
       " [0, 0, 0],\n",
       " [0, 0, 0],\n",
       " [0, 0, 0],\n",
       " [0, 0, 0],\n",
       " [0, 0, 0],\n",
       " [0, 0, 0],\n",
       " [0, 0, 0]]"
      ]
     },
     "execution_count": 12,
     "metadata": {},
     "output_type": "execute_result"
    }
   ],
   "source": [
    "dp[1]"
   ]
  },
  {
   "cell_type": "code",
   "execution_count": null,
   "metadata": {},
   "outputs": [],
   "source": []
  }
 ],
 "metadata": {
  "interpreter": {
   "hash": "9ac3d29f8cc176e5bae1b679f8e4160aa8f74d24dc03f458801d82e170eaab0b"
  },
  "kernelspec": {
   "display_name": "Python 3.9.5 ('.venv': poetry)",
   "language": "python",
   "name": "python3"
  },
  "language_info": {
   "codemirror_mode": {
    "name": "ipython",
    "version": 3
   },
   "file_extension": ".py",
   "mimetype": "text/x-python",
   "name": "python",
   "nbconvert_exporter": "python",
   "pygments_lexer": "ipython3",
   "version": "3.9.5"
  },
  "orig_nbformat": 4
 },
 "nbformat": 4,
 "nbformat_minor": 2
}
